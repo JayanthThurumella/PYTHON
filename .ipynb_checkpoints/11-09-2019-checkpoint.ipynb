{
 "cells": [
  {
   "cell_type": "markdown",
   "metadata": {},
   "source": [
    "## Reverse of a given number\n",
    "## special number\n",
    "## perfect number\n",
    "## perfect number  given range\n",
    "## prime number given range\n",
    "\n",
    "\n",
    "\n",
    "##    \n",
    "\n",
    "\n"
   ]
  },
  {
   "cell_type": "markdown",
   "metadata": {},
   "source": [
    "## Reverse of a given number"
   ]
  },
  {
   "cell_type": "code",
   "execution_count": 5,
   "metadata": {},
   "outputs": [
    {
     "name": "stdout",
     "output_type": "stream",
     "text": [
      "enter the number 1234\n",
      "4321 <class 'int'>\n"
     ]
    }
   ],
   "source": [
    "n=input(\"enter the number \")\n",
    "m=int(n[::-1])\n",
    "print(m,type(m))"
   ]
  },
  {
   "cell_type": "markdown",
   "metadata": {},
   "source": [
    "## special number"
   ]
  },
  {
   "cell_type": "code",
   "execution_count": 11,
   "metadata": {},
   "outputs": [
    {
     "name": "stdout",
     "output_type": "stream",
     "text": [
      "enter the number 29\n",
      "29\n",
      "29  is special number\n"
     ]
    }
   ],
   "source": [
    "n=int(input(\"enter the number \"))\n",
    "if n>9:\n",
    "    m=int(n%10)\n",
    "    o=int(n/10)\n",
    "    c=m+o\n",
    "    d=m*o\n",
    "    p=c+d\n",
    "    print(p)\n",
    "    if p==n:\n",
    "        print(n,\" is special number\")\n",
    "    else:\n",
    "        print(n,\" is not special number\")\n",
    "\n",
    "        "
   ]
  },
  {
   "cell_type": "markdown",
   "metadata": {},
   "source": [
    "## perfect number"
   ]
  },
  {
   "cell_type": "code",
   "execution_count": 20,
   "metadata": {},
   "outputs": [
    {
     "name": "stdout",
     "output_type": "stream",
     "text": [
      "enter the number 6\n",
      "6  is perfect number\n"
     ]
    }
   ],
   "source": [
    "n=int(input(\"enter the number \"))\n",
    "m=0\n",
    "for i in range(1,n):\n",
    "    if (n%i)==0:\n",
    "        m=m+i\n",
    "if m==n:\n",
    "    print(n,\" is perfect number\")\n",
    "        \n",
    "    "
   ]
  },
  {
   "cell_type": "markdown",
   "metadata": {},
   "source": [
    "## perfect number given range"
   ]
  },
  {
   "cell_type": "code",
   "execution_count": 1,
   "metadata": {},
   "outputs": [
    {
     "name": "stdout",
     "output_type": "stream",
     "text": [
      "enter the lower limit 1\n",
      " enter the upper limit 100\n",
      "6  is perfect number\n",
      "28  is perfect number\n"
     ]
    }
   ],
   "source": [
    "l=int(input(\"enter the lower limit \"))\n",
    "u=int(input(\" enter the upper limit \"))\n",
    "c=0\n",
    "def fac(t,c):\n",
    "    for i in range(1,t):\n",
    "        if t%i==0:\n",
    "            c=c+i\n",
    "    if c==t:\n",
    "        print(t,\" is perfect number\")\n",
    "        \n",
    "for j in range(l,u+1):\n",
    "    fac(j,c)\n",
    " \n",
    "        "
   ]
  },
  {
   "cell_type": "markdown",
   "metadata": {},
   "source": [
    "## prime number given range"
   ]
  },
  {
   "cell_type": "code",
   "execution_count": 4,
   "metadata": {},
   "outputs": [
    {
     "name": "stdout",
     "output_type": "stream",
     "text": [
      "enter the lower limit 1\n",
      " enter the upper limit 10\n",
      "2  is prime number\n",
      "3  is prime number\n",
      "5  is prime number\n",
      "7  is prime number\n"
     ]
    }
   ],
   "source": [
    "l=int(input(\"enter the lower limit \"))\n",
    "u=int(input(\" enter the upper limit \"))\n",
    "c=0\n",
    "def prime(t,c):\n",
    "    for i in range(1,t+1):\n",
    "        if t%i==0:\n",
    "            c=c+1\n",
    "    if c==2:\n",
    "        print(t,\" is prime number\")\n",
    "        \n",
    "for j in range(l,u+1):\n",
    "    prime(j,c)\n",
    "        \n",
    "    \n",
    "       \n",
    "        \n",
    "            \n",
    "        \n",
    "    "
   ]
  },
  {
   "cell_type": "code",
   "execution_count": null,
   "metadata": {},
   "outputs": [],
   "source": []
  }
 ],
 "metadata": {
  "kernelspec": {
   "display_name": "Python 3",
   "language": "python",
   "name": "python3"
  },
  "language_info": {
   "codemirror_mode": {
    "name": "ipython",
    "version": 3
   },
   "file_extension": ".py",
   "mimetype": "text/x-python",
   "name": "python",
   "nbconvert_exporter": "python",
   "pygments_lexer": "ipython3",
   "version": "3.7.3"
  }
 },
 "nbformat": 4,
 "nbformat_minor": 2
}
