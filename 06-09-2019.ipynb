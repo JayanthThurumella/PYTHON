{
 "cells": [
  {
   "cell_type": "markdown",
   "metadata": {},
   "source": [
    "# TOPICS :\n",
    "## factorial number print out\n",
    "## string case change\n",
    "## random number print out "
   ]
  },
  {
   "cell_type": "markdown",
   "metadata": {},
   "source": [
    "## Factorial number print out"
   ]
  },
  {
   "cell_type": "code",
   "execution_count": 22,
   "metadata": {},
   "outputs": [
    {
     "name": "stdout",
     "output_type": "stream",
     "text": [
      "enter factorial number 5\n",
      "120\n"
     ]
    }
   ],
   "source": [
    "n=int(input(\"enter factorial number \"))\n",
    "t=(n+1)\n",
    "fac=1\n",
    "for i in range(1,t):\n",
    "    fac=(fac*i)\n",
    "print(fac)"
   ]
  },
  {
   "cell_type": "markdown",
   "metadata": {},
   "source": [
    "## string case changed "
   ]
  },
  {
   "cell_type": "code",
   "execution_count": 21,
   "metadata": {},
   "outputs": [
    {
     "name": "stdout",
     "output_type": "stream",
     "text": [
      "enter the string jaYAnth\n",
      "JAyaNTH\n"
     ]
    }
   ],
   "source": [
    "a=input(\"enter the string \")\n",
    "b=a.swapcase()\n",
    "print(b)"
   ]
  },
  {
   "cell_type": "markdown",
   "metadata": {},
   "source": [
    "## Random number print out"
   ]
  },
  {
   "cell_type": "code",
   "execution_count": 39,
   "metadata": {},
   "outputs": [
    {
     "name": "stdout",
     "output_type": "stream",
     "text": [
      "53\n",
      "26\n",
      "59\n",
      "12\n",
      "100\n",
      "88\n",
      "99\n",
      "30\n",
      "12\n",
      "6\n"
     ]
    }
   ],
   "source": [
    "import random\n",
    "for i in range(10):\n",
    "  print(random.randint(1,101))"
   ]
  }
 ],
 "metadata": {
  "kernelspec": {
   "display_name": "Python 3",
   "language": "python",
   "name": "python3"
  },
  "language_info": {
   "codemirror_mode": {
    "name": "ipython",
    "version": 3
   },
   "file_extension": ".py",
   "mimetype": "text/x-python",
   "name": "python",
   "nbconvert_exporter": "python",
   "pygments_lexer": "ipython3",
   "version": "3.7.3"
  }
 },
 "nbformat": 4,
 "nbformat_minor": 2
}
