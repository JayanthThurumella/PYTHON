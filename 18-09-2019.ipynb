{
 "cells": [
  {
   "cell_type": "markdown",
   "metadata": {},
   "source": [
    "## 7 segments display count\n",
    "## location find out\n",
    "## file concepts\n",
    "\n",
    "\n",
    "\n",
    "\n",
    "\n",
    "\n",
    "## -------------------------------------------------------------------------------------------------------------------"
   ]
  },
  {
   "cell_type": "markdown",
   "metadata": {},
   "source": [
    "## 7 segments display count"
   ]
  },
  {
   "cell_type": "markdown",
   "metadata": {},
   "source": [
    "### normal way"
   ]
  },
  {
   "cell_type": "code",
   "execution_count": 19,
   "metadata": {},
   "outputs": [
    {
     "name": "stdout",
     "output_type": "stream",
     "text": [
      "enter segment number123\n",
      "12  segements are used\n"
     ]
    }
   ],
   "source": [
    "n=int(input(\"enter segment number\"))\n",
    "a={1:2,2:5,3:5,4:4,5:5,6:6,7:3,8:7,9:6,0:6}\n",
    "if n<=9:\n",
    "    print(a[n],\" segements are used \")\n",
    "elif n<=99:\n",
    "    b=int(n%10)\n",
    "    c=int(n/10)\n",
    "    print(a[b]+a[c],\" segements are used\")\n",
    "elif n<=999:\n",
    "    m=int(n%100)\n",
    "    b1=int(m%10)\n",
    "    c1=int(n/100)\n",
    "    e=int(n/10)\n",
    "    d1=int(e%10)\n",
    "    print(a[b1]+a[c1]+a[d1],\" segements are used\")\n",
    "\n",
    "    \n"
   ]
  },
  {
   "cell_type": "markdown",
   "metadata": {},
   "source": [
    "### logical thinking way"
   ]
  },
  {
   "cell_type": "code",
   "execution_count": 1,
   "metadata": {},
   "outputs": [
    {
     "name": "stdout",
     "output_type": "stream",
     "text": [
      "enter segment number5\n",
      "5  segments are used\n"
     ]
    }
   ],
   "source": [
    "n=input(\"enter segment number\")\n",
    "a={1:2,2:5,3:5,4:4,5:5,6:6,7:3,8:7,9:6,0:6}\n",
    "m=0\n",
    "for i in n:\n",
    "    i=int(i)\n",
    "    m=m+a[i]\n",
    "print(m,\" segments are used\")\n",
    "   \n",
    "        \n",
    "\n",
    "    "
   ]
  },
  {
   "cell_type": "markdown",
   "metadata": {},
   "source": [
    "## Location find out"
   ]
  },
  {
   "cell_type": "code",
   "execution_count": 61,
   "metadata": {},
   "outputs": [
    {
     "name": "stdout",
     "output_type": "stream",
     "text": [
      " enter the no.of co-ordinates llrdu\n",
      "-1 0  actual location\n"
     ]
    }
   ],
   "source": [
    "c=input(\" enter the no.of co-ordinates \")\n",
    "l=-1\n",
    "r=1\n",
    "d=-1\n",
    "u=1\n",
    "x=0\n",
    "y=0\n",
    "for i in c:\n",
    "    if 'l'==i:\n",
    "        x=x+l\n",
    "    elif 'r'==i:\n",
    "        x=x+r\n",
    "    elif 'd'==i:\n",
    "        y=y+d\n",
    "    elif 'u'==i:\n",
    "        y=y+u\n",
    "print(x,y,\" actual location\")\n",
    "        \n",
    "    \n",
    "\n"
   ]
  },
  {
   "cell_type": "markdown",
   "metadata": {},
   "source": [
    "## file concept"
   ]
  },
  {
   "cell_type": "code",
   "execution_count": 10,
   "metadata": {},
   "outputs": [],
   "source": [
    "filepath=\"./files concepts/sample.txt\"\n",
    "with open(filepath,'w') as f :\n",
    "    f.write(\"this is my copy file\")\n",
    "    f.write(\"contin.....\")\n",
    "    \n",
    "    \n",
    "    "
   ]
  },
  {
   "cell_type": "code",
   "execution_count": null,
   "metadata": {},
   "outputs": [],
   "source": []
  }
 ],
 "metadata": {
  "kernelspec": {
   "display_name": "Python 3",
   "language": "python",
   "name": "python3"
  },
  "language_info": {
   "codemirror_mode": {
    "name": "ipython",
    "version": 3
   },
   "file_extension": ".py",
   "mimetype": "text/x-python",
   "name": "python",
   "nbconvert_exporter": "python",
   "pygments_lexer": "ipython3",
   "version": "3.7.3"
  }
 },
 "nbformat": 4,
 "nbformat_minor": 2
}
