{
 "cells": [
  {
   "cell_type": "markdown",
   "metadata": {},
   "source": [
    "## file concept(cont..)\n",
    "## give input one time with space(l r k)\n",
    "### -->with in range(l-r) divisble k,count print\n",
    "## same word not repaeted(without set converted)\n",
    "\n",
    "\n",
    "## ----------------------------------------------------------------------------------------------------------------------------\n"
   ]
  },
  {
   "cell_type": "markdown",
   "metadata": {},
   "source": [
    "## file concept (cont....)"
   ]
  },
  {
   "cell_type": "markdown",
   "metadata": {},
   "source": [
    "## -->store"
   ]
  },
  {
   "cell_type": "code",
   "execution_count": 45,
   "metadata": {},
   "outputs": [],
   "source": [
    "filepath=\"./files concepts/sample2.txt\"\n",
    "with open(filepath,'w') as f :\n",
    "    m=f.write\n",
    "    m(\"this is my copy file\\n same line but next store\\n\")\n",
    "    m(\"this line next line\")\n",
    "    \n",
    "    "
   ]
  },
  {
   "cell_type": "markdown",
   "metadata": {},
   "source": [
    "## --> read"
   ]
  },
  {
   "cell_type": "code",
   "execution_count": 46,
   "metadata": {},
   "outputs": [
    {
     "name": "stdout",
     "output_type": "stream",
     "text": [
      "this is my copy file\n",
      " same line but next store\n",
      "this line next line\n"
     ]
    }
   ],
   "source": [
    "filepath=\"./files concepts/sample2.txt\"\n",
    "with open(filepath,'r') as f :\n",
    "    data=f.read()\n",
    "    print(data)"
   ]
  },
  {
   "cell_type": "markdown",
   "metadata": {},
   "source": [
    "## -->append "
   ]
  },
  {
   "cell_type": "code",
   "execution_count": 66,
   "metadata": {},
   "outputs": [],
   "source": [
    "filepath=\"./files concepts/sample2.txt\"\n",
    "with open(filepath,'a+') as f :\n",
    "    f.write(\"\\nchenckig\")\n",
    "    \n",
    "    "
   ]
  },
  {
   "cell_type": "markdown",
   "metadata": {},
   "source": [
    "## --> get perticular line "
   ]
  },
  {
   "cell_type": "code",
   "execution_count": 83,
   "metadata": {},
   "outputs": [
    {
     "name": "stdout",
     "output_type": "stream",
     "text": [
      "enter the line number 3\n",
      "checkig\n",
      "\n"
     ]
    }
   ],
   "source": [
    "filepath=\"./files concepts/sample2.txt\"\n",
    "n=int(input(\"enter the line number \"))\n",
    "with open(filepath,'r') as f :\n",
    "    data=f.readlines()\n",
    "    m=data\n",
    "    print(m[n])\n",
    "    \n",
    "    "
   ]
  },
  {
   "cell_type": "code",
   "execution_count": 81,
   "metadata": {},
   "outputs": [
    {
     "name": "stdout",
     "output_type": "stream",
     "text": [
      "enter the line number 3\n",
      "checkig\n",
      "\n"
     ]
    }
   ],
   "source": [
    "filepath=\"./files concepts/sample2.txt\"\n",
    "n=int(input(\"enter the line number \"))\n",
    "with open(filepath,'r') as f :\n",
    "    data=f.readlines()\n",
    "    print(data[n])\n",
    "    "
   ]
  },
  {
   "cell_type": "markdown",
   "metadata": {},
   "source": [
    "## same word not repaeted(without set converted)"
   ]
  },
  {
   "cell_type": "code",
   "execution_count": 86,
   "metadata": {},
   "outputs": [
    {
     "name": "stdout",
     "output_type": "stream",
     "text": [
      "['jayanth', 'sanavulla', 'asim']\n"
     ]
    }
   ],
   "source": [
    "l=[\"jayanth\",\"sanavulla\",\"asim\",\"jayanth\",\"asim\"]\n",
    "d=[]\n",
    "for i in l:\n",
    "    if i not in d:\n",
    "        d.append(i)\n",
    "print(d)"
   ]
  },
  {
   "cell_type": "markdown",
   "metadata": {},
   "source": [
    "## give input one time with space(l r k)\n",
    "### -->with in range(l-r) divisble k,COUNT PRINT"
   ]
  },
  {
   "cell_type": "code",
   "execution_count": 96,
   "metadata": {},
   "outputs": [
    {
     "name": "stdout",
     "output_type": "stream",
     "text": [
      "enter the input 1 100 5\n",
      "5\n",
      "10\n",
      "15\n",
      "20\n",
      "25\n",
      "30\n",
      "35\n",
      "40\n",
      "45\n",
      "50\n",
      "55\n",
      "60\n",
      "65\n",
      "70\n",
      "75\n",
      "80\n",
      "85\n",
      "90\n",
      "95\n",
      "100\n",
      "divisible count is  20\n"
     ]
    }
   ],
   "source": [
    "n=input(\"enter the input \")\n",
    "m=n.split()\n",
    "l=int(m[0])\n",
    "r=int(m[1])\n",
    "k=int(m[2])\n",
    "c=0\n",
    "for i in range(l,r+1):\n",
    "    if i%k==0:\n",
    "        c=c+1\n",
    "        print(i)\n",
    "print(\"divisible count is \",c)\n"
   ]
  },
  {
   "cell_type": "code",
   "execution_count": null,
   "metadata": {},
   "outputs": [],
   "source": []
  }
 ],
 "metadata": {
  "kernelspec": {
   "display_name": "Python 3",
   "language": "python",
   "name": "python3"
  },
  "language_info": {
   "codemirror_mode": {
    "name": "ipython",
    "version": 3
   },
   "file_extension": ".py",
   "mimetype": "text/x-python",
   "name": "python",
   "nbconvert_exporter": "python",
   "pygments_lexer": "ipython3",
   "version": "3.7.3"
  }
 },
 "nbformat": 4,
 "nbformat_minor": 2
}
