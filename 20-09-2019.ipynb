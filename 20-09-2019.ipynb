{
 "cells": [
  {
   "cell_type": "markdown",
   "metadata": {},
   "source": [
    "## print of even(1...) or odd(71.....) segments\n",
    "## print of even(1...) or odd(71.....) segments divide 1 matchstick\n",
    "## legal or illegal ISBN no.checking\n",
    "\n",
    "\n",
    "## -----------------------------------------------------------------------------------------------------------------------"
   ]
  },
  {
   "cell_type": "code",
   "execution_count": 7,
   "metadata": {},
   "outputs": [
    {
     "name": "stdout",
     "output_type": "stream",
     "text": [
      "this is my copy file\n",
      " same line but next store\n",
      "this line next line\n",
      "checkig\n",
      "chenckig <class 'bytes'>\n"
     ]
    }
   ],
   "source": [
    "filepath=\"./files concepts/sample2.txt\"\n",
    "with open(filepath,'r') as f :\n",
    "    data=f.read()\n",
    "    print(data,bytes)"
   ]
  },
  {
   "cell_type": "markdown",
   "metadata": {},
   "source": [
    "## print of even(1...) or odd(71.....) segments"
   ]
  },
  {
   "cell_type": "code",
   "execution_count": 32,
   "metadata": {},
   "outputs": [
    {
     "name": "stdout",
     "output_type": "stream",
     "text": [
      "enter segment number13\n",
      "7  segments are used\n",
      "7111111\n"
     ]
    }
   ],
   "source": [
    "n=input(\"enter segment number\")\n",
    "a={1:2,2:5,3:5,4:4,5:5,6:6,7:3,8:7,9:6,0:6}\n",
    "m=0\n",
    "for i in n:\n",
    "    i=int(i)\n",
    "    m=m+a[i]\n",
    "print(m,\" segments are used\")\n",
    "if m%2==0:\n",
    "    print(\"1\"*m)\n",
    "else:\n",
    "    print(\"7\"+\"1\"*(m-1))\n",
    "    \n",
    "   \n",
    "        "
   ]
  },
  {
   "cell_type": "markdown",
   "metadata": {},
   "source": [
    "## print of even(1...) or odd(71.....) segments divide 1 matchstick"
   ]
  },
  {
   "cell_type": "code",
   "execution_count": 49,
   "metadata": {},
   "outputs": [
    {
     "name": "stdout",
     "output_type": "stream",
     "text": [
      "enter segment number6\n",
      "6  segments are used\n",
      "6 --> 111\n"
     ]
    }
   ],
   "source": [
    "n=input(\"enter segment number\")\n",
    "a={1:2,2:5,3:5,4:4,5:5,6:6,7:3,8:7,9:6,0:6}\n",
    "m=0\n",
    "for i in n:\n",
    "    i=int(i)\n",
    "    m=m+a[i]\n",
    "print(m,\" segments are used\")\n",
    "\n",
    "if m%2==0:\n",
    "    g=m//2\n",
    "    print(n,\"-->\",\"1\"*g)\n",
    "else:\n",
    "    g=m//2\n",
    "    print(n,\"-->\",\"7\"+\"1\"*g)\n",
    "    \n",
    "   \n",
    "   \n",
    "        "
   ]
  },
  {
   "cell_type": "markdown",
   "metadata": {},
   "source": [
    "## legal or illegal ISBN no.checking"
   ]
  },
  {
   "cell_type": "code",
   "execution_count": 83,
   "metadata": {},
   "outputs": [
    {
     "name": "stdout",
     "output_type": "stream",
     "text": [
      " enter the ISBN no 0764526413\n",
      "Legal ISBN no\n"
     ]
    }
   ],
   "source": [
    "n=input(\" enter the ISBN no \")\n",
    "m=len(n)\n",
    "a=0\n",
    "j=1\n",
    "if m==10:\n",
    "    for i in n:\n",
    "            i=int(i)\n",
    "            a=a+(i*j)\n",
    "            j=j+1\n",
    "else:\n",
    "    print(\"Illegal ISBN No\")\n",
    "if a%11==0:\n",
    "    print(\"Legal ISBN no\")\n",
    "else:\n",
    "    print(\"Illegal ISBN No\")\n",
    "\n",
    "\n",
    "    \n"
   ]
  }
 ],
 "metadata": {
  "kernelspec": {
   "display_name": "Python 3",
   "language": "python",
   "name": "python3"
  },
  "language_info": {
   "codemirror_mode": {
    "name": "ipython",
    "version": 3
   },
   "file_extension": ".py",
   "mimetype": "text/x-python",
   "name": "python",
   "nbconvert_exporter": "python",
   "pygments_lexer": "ipython3",
   "version": "3.7.3"
  }
 },
 "nbformat": 4,
 "nbformat_minor": 2
}
