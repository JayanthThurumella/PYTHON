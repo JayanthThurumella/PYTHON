{
 "cells": [
  {
   "cell_type": "markdown",
   "metadata": {},
   "source": [
    "## character and words count"
   ]
  },
  {
   "cell_type": "code",
   "execution_count": 79,
   "metadata": {},
   "outputs": [
    {
     "name": "stdout",
     "output_type": "stream",
     "text": [
      "count of lines are  5\n",
      "the count of words are  16\n",
      "character count are  67\n"
     ]
    }
   ],
   "source": [
    "file=\"./files concepts/sample2.txt\"\n",
    "m=open(file,'r')\n",
    "l=m.readlines()\n",
    "print(\"count of lines are \",len(l))\n",
    "m=open(file,'r')\n",
    "data=m.read()\n",
    "a=data.split()\n",
    "print(\"the count of words are \",len(a))\n",
    "c=0\n",
    "for i in range(0,len(a)):\n",
    "    c=c+(len(a[i]))\n",
    "print(\"character count are \",c)\n",
    "    "
   ]
  },
  {
   "cell_type": "markdown",
   "metadata": {},
   "source": [
    "## spend time find out"
   ]
  },
  {
   "cell_type": "code",
   "execution_count": 8,
   "metadata": {},
   "outputs": [
    {
     "name": "stdout",
     "output_type": "stream",
     "text": [
      "enter the test cases 1\n",
      "enter the start and end time 1 44 2 44\n",
      "spend time is  1 0\n"
     ]
    }
   ],
   "source": [
    "t=int(input(\"enter the test cases \"))\n",
    "for i in range(t):\n",
    "    t1=input(\"enter the start and end time \").split()\n",
    "    t2=len(t1)\n",
    "    if t3==4:\n",
    "        a=int(t1[0])\n",
    "        b=int(t1[1])\n",
    "        c=int(t1[2])\n",
    "        d=int(t1[3])\n",
    "        if a<=24 and b<=60 and c<=24 and d<=60:\n",
    "            x=abs((c-a)-1)\n",
    "            y=abs(d-b)\n",
    "            if b==d:\n",
    "                x=x+1\n",
    "                print(\"spend time is \",x,y)\n",
    "            else:\n",
    "                print(\"spend time is \",x,y)\n",
    "        else:\n",
    "            print(\"enter the correct time\")\n",
    "    else:\n",
    "        print(\"enter 4 index values\")\n",
    "            \n",
    "        \n",
    "    \n",
    "        "
   ]
  },
  {
   "cell_type": "code",
   "execution_count": null,
   "metadata": {},
   "outputs": [],
   "source": []
  },
  {
   "cell_type": "code",
   "execution_count": null,
   "metadata": {},
   "outputs": [],
   "source": []
  }
 ],
 "metadata": {
  "kernelspec": {
   "display_name": "Python 3",
   "language": "python",
   "name": "python3"
  },
  "language_info": {
   "codemirror_mode": {
    "name": "ipython",
    "version": 3
   },
   "file_extension": ".py",
   "mimetype": "text/x-python",
   "name": "python",
   "nbconvert_exporter": "python",
   "pygments_lexer": "ipython3",
   "version": "3.7.3"
  }
 },
 "nbformat": 4,
 "nbformat_minor": 2
}
